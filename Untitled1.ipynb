{
 "cells": [
  {
   "cell_type": "code",
   "execution_count": 36,
   "id": "0fc15c09-6c39-4d9f-be34-94122da53506",
   "metadata": {},
   "outputs": [],
   "source": [
    "import numpy as np\n",
    "import pandas as pd\n",
    "from sklearn.model_selection import train_test_split\n",
    "from sklearn.preprocessing import LabelEncoder\n",
    "from sklearn.ensemble import RandomForestClassifier, GradientBoostingClassifier\n",
    "from sklearn.linear_model import LogisticRegression\n",
    "from sklearn.tree import DecisionTreeClassifier\n",
    "from sklearn.svm import SVC\n",
    "from sklearn.metrics import accuracy_score, classification_report\n",
    "import joblib\n",
    "import streamlit as st"
   ]
  },
  {
   "cell_type": "code",
   "execution_count": 22,
   "id": "6b516cfc-8e36-4f1e-a9fe-f844bb22fd73",
   "metadata": {},
   "outputs": [],
   "source": [
    "insurance_df = pd.read_csv('personalized_insurance_dataset.csv')"
   ]
  },
  {
   "cell_type": "code",
   "execution_count": 23,
   "id": "62c4d4e2-a06f-4642-9c7e-d7bdb5e444cf",
   "metadata": {},
   "outputs": [
    {
     "data": {
      "text/html": [
       "<div>\n",
       "<style scoped>\n",
       "    .dataframe tbody tr th:only-of-type {\n",
       "        vertical-align: middle;\n",
       "    }\n",
       "\n",
       "    .dataframe tbody tr th {\n",
       "        vertical-align: top;\n",
       "    }\n",
       "\n",
       "    .dataframe thead th {\n",
       "        text-align: right;\n",
       "    }\n",
       "</style>\n",
       "<table border=\"1\" class=\"dataframe\">\n",
       "  <thead>\n",
       "    <tr style=\"text-align: right;\">\n",
       "      <th></th>\n",
       "      <th>customer_id</th>\n",
       "      <th>age</th>\n",
       "      <th>income</th>\n",
       "      <th>occupation</th>\n",
       "      <th>marital_status</th>\n",
       "      <th>children</th>\n",
       "      <th>risk_score</th>\n",
       "      <th>customer_preferences</th>\n",
       "      <th>insurance_type</th>\n",
       "      <th>insurance_premium</th>\n",
       "      <th>policy_recommendation</th>\n",
       "      <th>purchase_probability</th>\n",
       "    </tr>\n",
       "  </thead>\n",
       "  <tbody>\n",
       "    <tr>\n",
       "      <th>0</th>\n",
       "      <td>1</td>\n",
       "      <td>29</td>\n",
       "      <td>74993</td>\n",
       "      <td>Engineer</td>\n",
       "      <td>Divorced</td>\n",
       "      <td>2</td>\n",
       "      <td>0.96</td>\n",
       "      <td>comprehensive coverage</td>\n",
       "      <td>home</td>\n",
       "      <td>1766.70</td>\n",
       "      <td>full coverage</td>\n",
       "      <td>0.88</td>\n",
       "    </tr>\n",
       "    <tr>\n",
       "      <th>1</th>\n",
       "      <td>2</td>\n",
       "      <td>60</td>\n",
       "      <td>106970</td>\n",
       "      <td>Teacher</td>\n",
       "      <td>Single</td>\n",
       "      <td>2</td>\n",
       "      <td>0.17</td>\n",
       "      <td>budget-friendly</td>\n",
       "      <td>vehicle</td>\n",
       "      <td>2155.98</td>\n",
       "      <td>basic coverage</td>\n",
       "      <td>0.16</td>\n",
       "    </tr>\n",
       "    <tr>\n",
       "      <th>2</th>\n",
       "      <td>3</td>\n",
       "      <td>43</td>\n",
       "      <td>56649</td>\n",
       "      <td>Freelancer</td>\n",
       "      <td>Divorced</td>\n",
       "      <td>0</td>\n",
       "      <td>0.95</td>\n",
       "      <td>budget-friendly</td>\n",
       "      <td>life</td>\n",
       "      <td>1838.71</td>\n",
       "      <td>standard coverage</td>\n",
       "      <td>0.51</td>\n",
       "    </tr>\n",
       "    <tr>\n",
       "      <th>3</th>\n",
       "      <td>4</td>\n",
       "      <td>45</td>\n",
       "      <td>57859</td>\n",
       "      <td>Engineer</td>\n",
       "      <td>Divorced</td>\n",
       "      <td>0</td>\n",
       "      <td>0.17</td>\n",
       "      <td>budget-friendly</td>\n",
       "      <td>life</td>\n",
       "      <td>1049.69</td>\n",
       "      <td>basic coverage</td>\n",
       "      <td>0.16</td>\n",
       "    </tr>\n",
       "    <tr>\n",
       "      <th>4</th>\n",
       "      <td>5</td>\n",
       "      <td>45</td>\n",
       "      <td>124862</td>\n",
       "      <td>Lawyer</td>\n",
       "      <td>Married</td>\n",
       "      <td>0</td>\n",
       "      <td>0.84</td>\n",
       "      <td>budget-friendly</td>\n",
       "      <td>home</td>\n",
       "      <td>3408.67</td>\n",
       "      <td>standard coverage</td>\n",
       "      <td>0.71</td>\n",
       "    </tr>\n",
       "  </tbody>\n",
       "</table>\n",
       "</div>"
      ],
      "text/plain": [
       "   customer_id  age  income  occupation marital_status  children  risk_score  \\\n",
       "0            1   29   74993    Engineer       Divorced         2        0.96   \n",
       "1            2   60  106970     Teacher         Single         2        0.17   \n",
       "2            3   43   56649  Freelancer       Divorced         0        0.95   \n",
       "3            4   45   57859    Engineer       Divorced         0        0.17   \n",
       "4            5   45  124862      Lawyer        Married         0        0.84   \n",
       "\n",
       "     customer_preferences insurance_type  insurance_premium  \\\n",
       "0  comprehensive coverage           home            1766.70   \n",
       "1         budget-friendly        vehicle            2155.98   \n",
       "2         budget-friendly           life            1838.71   \n",
       "3         budget-friendly           life            1049.69   \n",
       "4         budget-friendly           home            3408.67   \n",
       "\n",
       "  policy_recommendation  purchase_probability  \n",
       "0         full coverage                  0.88  \n",
       "1        basic coverage                  0.16  \n",
       "2     standard coverage                  0.51  \n",
       "3        basic coverage                  0.16  \n",
       "4     standard coverage                  0.71  "
      ]
     },
     "execution_count": 23,
     "metadata": {},
     "output_type": "execute_result"
    }
   ],
   "source": [
    "insurance_df.head()"
   ]
  },
  {
   "cell_type": "code",
   "execution_count": 24,
   "id": "10923d28-22d2-444a-b0a4-d2da438abc5e",
   "metadata": {},
   "outputs": [],
   "source": [
    "# Step 2: Encode categorical variables\n",
    "le = LabelEncoder()\n",
    "insurance_df['occupation'] = le.fit_transform(insurance_df['occupation'])\n",
    "insurance_df['marital_status'] = le.fit_transform(insurance_df['marital_status'])\n",
    "insurance_df['customer_preferences'] = le.fit_transform(insurance_df['customer_preferences'])\n",
    "insurance_df['insurance_type'] = le.fit_transform(insurance_df['insurance_type'])\n",
    "insurance_df['policy_recommendation'] = le.fit_transform(insurance_df['policy_recommendation'])"
   ]
  },
  {
   "cell_type": "code",
   "execution_count": 26,
   "id": "8cd3eda7-16a3-48a4-b141-d299dca08861",
   "metadata": {},
   "outputs": [],
   "source": [
    "# Step 3: Define features and target variable\n",
    "X = insurance_df[['age', 'income', 'occupation', 'marital_status', 'children', 'risk_score', 'customer_preferences']]\n",
    "y = insurance_df['policy_recommendation']"
   ]
  },
  {
   "cell_type": "code",
   "execution_count": 27,
   "id": "9cc371a4-05f3-4ca9-81ff-ed68734b1466",
   "metadata": {},
   "outputs": [],
   "source": [
    "# Step 4: Split the data into training and testing sets\n",
    "X_train, X_test, y_train, y_test = train_test_split(X, y, test_size=0.2, random_state=42)"
   ]
  },
  {
   "cell_type": "code",
   "execution_count": 30,
   "id": "eded9c74-928d-4797-ac27-eb543419f661",
   "metadata": {},
   "outputs": [],
   "source": [
    "# Step 5: Initialize the models\n",
    "models = {\n",
    "    'Logistic Regression': LogisticRegression(),\n",
    "    'Decision Tree': DecisionTreeClassifier(),\n",
    "    'Random Forest': RandomForestClassifier(),\n",
    "    'Support Vector Machine': SVC(),\n",
    "    'Gradient Boosting': GradientBoostingClassifier()\n",
    "}"
   ]
  },
  {
   "cell_type": "code",
   "execution_count": 32,
   "id": "742080dd-ec56-41c9-b1e4-19e36f2ef0d9",
   "metadata": {},
   "outputs": [],
   "source": [
    "# Step 6: Train and evaluate each model\n",
    "best_model = None\n",
    "best_accuracy = 0\n",
    "model_accuracies = {}\n",
    "\n",
    "for name, model in models.items():\n",
    "    model.fit(X_train, y_train)\n",
    "    y_pred = model.predict(X_test)\n",
    "    accuracy = accuracy_score(y_test, y_pred)\n",
    "    model_accuracies[name] = accuracy\n",
    "    \n",
    "    #print(f\"{name} Accuracy: {accuracy:.4f}\")\n",
    "    #print(classification_report(y_test, y_pred))\n",
    "    \n",
    "    if accuracy > best_accuracy:\n",
    "        best_accuracy = accuracy\n",
    "        best_model = model"
   ]
  },
  {
   "cell_type": "code",
   "execution_count": 33,
   "id": "b655f5e9-c155-4531-8396-a3a86c4a48e6",
   "metadata": {},
   "outputs": [
    {
     "name": "stdout",
     "output_type": "stream",
     "text": [
      "\n",
      "Best Model: DecisionTreeClassifier with accuracy 1.0000\n"
     ]
    }
   ],
   "source": [
    "print(f\"\\nBest Model: {best_model.__class__.__name__} with accuracy {best_accuracy:.4f}\")"
   ]
  },
  {
   "cell_type": "code",
   "execution_count": 35,
   "id": "88160c5f-ce4e-4f40-be31-d8da8bda3cc6",
   "metadata": {},
   "outputs": [
    {
     "data": {
      "text/plain": [
       "['best_insurance_model.pkl']"
      ]
     },
     "execution_count": 35,
     "metadata": {},
     "output_type": "execute_result"
    }
   ],
   "source": [
    "# Save the best model to a file\n",
    "joblib.dump(best_model, 'best_insurance_model.pkl')"
   ]
  },
  {
   "cell_type": "code",
   "execution_count": null,
   "id": "55c22377-1a79-4129-8463-cf0cd04e5d8d",
   "metadata": {},
   "outputs": [],
   "source": []
  }
 ],
 "metadata": {
  "kernelspec": {
   "display_name": "Python 3 (ipykernel)",
   "language": "python",
   "name": "python3"
  },
  "language_info": {
   "codemirror_mode": {
    "name": "ipython",
    "version": 3
   },
   "file_extension": ".py",
   "mimetype": "text/x-python",
   "name": "python",
   "nbconvert_exporter": "python",
   "pygments_lexer": "ipython3",
   "version": "3.11.7"
  }
 },
 "nbformat": 4,
 "nbformat_minor": 5
}
