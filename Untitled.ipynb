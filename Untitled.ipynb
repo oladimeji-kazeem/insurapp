{
 "cells": [
  {
   "cell_type": "code",
   "execution_count": 2,
   "id": "f6280a0c-0c7c-48f8-8643-e4030ed045f2",
   "metadata": {},
   "outputs": [],
   "source": [
    "import numpy as np\n",
    "import pandas as pd\n",
    "import random"
   ]
  },
  {
   "cell_type": "code",
   "execution_count": 3,
   "id": "30c31976-81a5-403a-89a1-674ef2a823c9",
   "metadata": {},
   "outputs": [],
   "source": [
    "# Set seed for reproducibility\n",
    "np.random.seed(42)\n",
    "random.seed(42)"
   ]
  },
  {
   "cell_type": "code",
   "execution_count": 13,
   "id": "4d9d8ae4-d2c1-48c3-8127-b48cba7585b3",
   "metadata": {},
   "outputs": [],
   "source": [
    "# Helper function to generate insurance type\n",
    "def generate_insurance_type(risk_score):\n",
    "    if risk_score > 0.8:\n",
    "        return random.choice(['life', 'health', 'home'])\n",
    "    elif risk_score > 0.5:\n",
    "        return random.choice(['vehicle', 'health'])\n",
    "    else:\n",
    "        return random.choice(['life', 'vehicle'])"
   ]
  },
  {
   "cell_type": "code",
   "execution_count": 14,
   "id": "042122f6-382f-4450-a1b7-6cd77a3a1676",
   "metadata": {},
   "outputs": [],
   "source": [
    "# Helper function to generate policy recommendation based on preferences and risk score\n",
    "def generate_policy_recommendation(preference, risk_score):\n",
    "    if 'comprehensive' in preference:\n",
    "        return 'full coverage' if risk_score > 0.6 else 'standard coverage'\n",
    "    elif 'budget' in preference:\n",
    "        return 'basic coverage' if risk_score <= 0.6 else 'standard coverage'\n",
    "    else:\n",
    "        return 'standard coverage'"
   ]
  },
  {
   "cell_type": "code",
   "execution_count": 15,
   "id": "ee7dc7b9-6aa1-420a-8619-0c8475d832c7",
   "metadata": {},
   "outputs": [],
   "source": [
    "# Number of records\n",
    "n_records = 10000"
   ]
  },
  {
   "cell_type": "code",
   "execution_count": 16,
   "id": "44c4a2cb-9d59-4695-9fa8-295ed894118d",
   "metadata": {},
   "outputs": [],
   "source": [
    "# Generating dataset\n",
    "data = {\n",
    "    'customer_id': np.arange(1, n_records + 1),\n",
    "    'age': np.random.randint(18, 70, size=n_records),\n",
    "    'income': np.random.randint(30000, 150000, size=n_records),\n",
    "    'occupation': np.random.choice(['Engineer', 'Teacher', 'Doctor', 'Lawyer', 'Business', 'Freelancer'], size=n_records),\n",
    "    'marital_status': np.random.choice(['Single', 'Married', 'Divorced'], size=n_records),\n",
    "    'children': np.random.randint(0, 4, size=n_records),\n",
    "    'risk_score': np.round(np.random.rand(n_records), 2),\n",
    "    'customer_preferences': np.random.choice(['budget-friendly', 'comprehensive coverage', 'balanced'], size=n_records)\n",
    "}"
   ]
  },
  {
   "cell_type": "code",
   "execution_count": 17,
   "id": "536c96aa-140a-4c92-81c5-8c6a58f668ab",
   "metadata": {},
   "outputs": [],
   "source": [
    "# Calculating insurance type based on risk score\n",
    "data['insurance_type'] = [generate_insurance_type(score) for score in data['risk_score']]"
   ]
  },
  {
   "cell_type": "code",
   "execution_count": 18,
   "id": "a539a516-8ea3-45a6-a2f5-fd55d1b6adb1",
   "metadata": {},
   "outputs": [],
   "source": [
    "# Calculating estimated premium based on income and risk score\n",
    "data['insurance_premium'] = np.round(np.random.uniform(200, 2000, size=n_records) * (1 + data['risk_score']), 2)"
   ]
  },
  {
   "cell_type": "code",
   "execution_count": 19,
   "id": "d9e79da5-021b-434a-ace6-d36c67582acd",
   "metadata": {},
   "outputs": [],
   "source": [
    "# Calculating policy recommendation based on preferences and risk score\n",
    "data['policy_recommendation'] = [generate_policy_recommendation(preference, score) for preference, score in zip(data['customer_preferences'], data['risk_score'])]"
   ]
  },
  {
   "cell_type": "code",
   "execution_count": 20,
   "id": "a8885085-578b-4a0a-b2eb-25a1c43e8578",
   "metadata": {},
   "outputs": [],
   "source": [
    "# Generating purchase probability based on risk score and preferences\n",
    "data['purchase_probability'] = np.round(data['risk_score'] * np.random.uniform(0.5, 1.0, size=n_records), 2)"
   ]
  },
  {
   "cell_type": "code",
   "execution_count": 21,
   "id": "af2d5b58-fc88-4075-a71b-573d8d782f8f",
   "metadata": {},
   "outputs": [],
   "source": [
    "# Create DataFrame\n",
    "insurance_df = pd.DataFrame(data)"
   ]
  },
  {
   "cell_type": "code",
   "execution_count": 22,
   "id": "3a90eae6-09cc-4543-bb24-a7e2117efe94",
   "metadata": {},
   "outputs": [],
   "source": [
    "# Save the dataset to a CSV file\n",
    "insurance_df.to_csv('personalized_insurance_dataset.csv', index=False)"
   ]
  },
  {
   "cell_type": "code",
   "execution_count": 4,
   "id": "00000165-327a-4738-9bde-c98e9b26843b",
   "metadata": {},
   "outputs": [],
   "source": [
    "df = pd.read_csv('personalized_insurance_dataset.csv')"
   ]
  },
  {
   "cell_type": "code",
   "execution_count": 5,
   "id": "8f873acb-b3a3-4d00-ba37-766ca91d1a13",
   "metadata": {},
   "outputs": [
    {
     "data": {
      "text/html": [
       "<div>\n",
       "<style scoped>\n",
       "    .dataframe tbody tr th:only-of-type {\n",
       "        vertical-align: middle;\n",
       "    }\n",
       "\n",
       "    .dataframe tbody tr th {\n",
       "        vertical-align: top;\n",
       "    }\n",
       "\n",
       "    .dataframe thead th {\n",
       "        text-align: right;\n",
       "    }\n",
       "</style>\n",
       "<table border=\"1\" class=\"dataframe\">\n",
       "  <thead>\n",
       "    <tr style=\"text-align: right;\">\n",
       "      <th></th>\n",
       "      <th>customer_id</th>\n",
       "      <th>age</th>\n",
       "      <th>income</th>\n",
       "      <th>occupation</th>\n",
       "      <th>marital_status</th>\n",
       "      <th>children</th>\n",
       "      <th>risk_score</th>\n",
       "      <th>customer_preferences</th>\n",
       "      <th>insurance_type</th>\n",
       "      <th>insurance_premium</th>\n",
       "      <th>policy_recommendation</th>\n",
       "      <th>purchase_probability</th>\n",
       "    </tr>\n",
       "  </thead>\n",
       "  <tbody>\n",
       "    <tr>\n",
       "      <th>0</th>\n",
       "      <td>1</td>\n",
       "      <td>29</td>\n",
       "      <td>74993</td>\n",
       "      <td>Engineer</td>\n",
       "      <td>Divorced</td>\n",
       "      <td>2</td>\n",
       "      <td>0.96</td>\n",
       "      <td>comprehensive coverage</td>\n",
       "      <td>home</td>\n",
       "      <td>1766.70</td>\n",
       "      <td>full coverage</td>\n",
       "      <td>0.88</td>\n",
       "    </tr>\n",
       "    <tr>\n",
       "      <th>1</th>\n",
       "      <td>2</td>\n",
       "      <td>60</td>\n",
       "      <td>106970</td>\n",
       "      <td>Teacher</td>\n",
       "      <td>Single</td>\n",
       "      <td>2</td>\n",
       "      <td>0.17</td>\n",
       "      <td>budget-friendly</td>\n",
       "      <td>vehicle</td>\n",
       "      <td>2155.98</td>\n",
       "      <td>basic coverage</td>\n",
       "      <td>0.16</td>\n",
       "    </tr>\n",
       "    <tr>\n",
       "      <th>2</th>\n",
       "      <td>3</td>\n",
       "      <td>43</td>\n",
       "      <td>56649</td>\n",
       "      <td>Freelancer</td>\n",
       "      <td>Divorced</td>\n",
       "      <td>0</td>\n",
       "      <td>0.95</td>\n",
       "      <td>budget-friendly</td>\n",
       "      <td>life</td>\n",
       "      <td>1838.71</td>\n",
       "      <td>standard coverage</td>\n",
       "      <td>0.51</td>\n",
       "    </tr>\n",
       "    <tr>\n",
       "      <th>3</th>\n",
       "      <td>4</td>\n",
       "      <td>45</td>\n",
       "      <td>57859</td>\n",
       "      <td>Engineer</td>\n",
       "      <td>Divorced</td>\n",
       "      <td>0</td>\n",
       "      <td>0.17</td>\n",
       "      <td>budget-friendly</td>\n",
       "      <td>life</td>\n",
       "      <td>1049.69</td>\n",
       "      <td>basic coverage</td>\n",
       "      <td>0.16</td>\n",
       "    </tr>\n",
       "    <tr>\n",
       "      <th>4</th>\n",
       "      <td>5</td>\n",
       "      <td>45</td>\n",
       "      <td>124862</td>\n",
       "      <td>Lawyer</td>\n",
       "      <td>Married</td>\n",
       "      <td>0</td>\n",
       "      <td>0.84</td>\n",
       "      <td>budget-friendly</td>\n",
       "      <td>home</td>\n",
       "      <td>3408.67</td>\n",
       "      <td>standard coverage</td>\n",
       "      <td>0.71</td>\n",
       "    </tr>\n",
       "  </tbody>\n",
       "</table>\n",
       "</div>"
      ],
      "text/plain": [
       "   customer_id  age  income  occupation marital_status  children  risk_score  \\\n",
       "0            1   29   74993    Engineer       Divorced         2        0.96   \n",
       "1            2   60  106970     Teacher         Single         2        0.17   \n",
       "2            3   43   56649  Freelancer       Divorced         0        0.95   \n",
       "3            4   45   57859    Engineer       Divorced         0        0.17   \n",
       "4            5   45  124862      Lawyer        Married         0        0.84   \n",
       "\n",
       "     customer_preferences insurance_type  insurance_premium  \\\n",
       "0  comprehensive coverage           home            1766.70   \n",
       "1         budget-friendly        vehicle            2155.98   \n",
       "2         budget-friendly           life            1838.71   \n",
       "3         budget-friendly           life            1049.69   \n",
       "4         budget-friendly           home            3408.67   \n",
       "\n",
       "  policy_recommendation  purchase_probability  \n",
       "0         full coverage                  0.88  \n",
       "1        basic coverage                  0.16  \n",
       "2     standard coverage                  0.51  \n",
       "3        basic coverage                  0.16  \n",
       "4     standard coverage                  0.71  "
      ]
     },
     "execution_count": 5,
     "metadata": {},
     "output_type": "execute_result"
    }
   ],
   "source": [
    "# Display first few records\n",
    "df.head()"
   ]
  },
  {
   "cell_type": "code",
   "execution_count": 6,
   "id": "0a4baea1-2214-49aa-87ca-8667382c2ccd",
   "metadata": {},
   "outputs": [],
   "source": [
    "from sklearn.model_selection import train_test_split\n",
    "from sklearn.ensemble import RandomForestClassifier\n",
    "from sklearn.preprocessing import LabelEncoder\n",
    "from sklearn.metrics import accuracy_score\n",
    "from sklearn.model_selection import GridSearchCV"
   ]
  },
  {
   "cell_type": "code",
   "execution_count": 7,
   "id": "003c3157-f2e4-48e0-8216-82c382d007d9",
   "metadata": {},
   "outputs": [],
   "source": [
    "# Encode categorical variables for model input\n",
    "le_occupation = LabelEncoder()\n",
    "le_marital_status = LabelEncoder()\n",
    "le_preferences = LabelEncoder()\n",
    "le_insurance_type = LabelEncoder()"
   ]
  },
  {
   "cell_type": "code",
   "execution_count": 8,
   "id": "69a6a846-2e9c-44a2-9e78-9a9777d3cd3f",
   "metadata": {},
   "outputs": [],
   "source": [
    "df['occupation_encoded'] = le_occupation.fit_transform(df['occupation'])\n",
    "df['marital_status_encoded'] = le_marital_status.fit_transform(df['marital_status'])\n",
    "df['preferences_encoded'] = le_preferences.fit_transform(df['customer_preferences'])\n",
    "df['insurance_type_encoded'] = le_insurance_type.fit_transform(df['insurance_type'])"
   ]
  },
  {
   "cell_type": "code",
   "execution_count": 9,
   "id": "1fe62341-6a31-4517-bf28-dcca7337cbf7",
   "metadata": {},
   "outputs": [],
   "source": [
    "# Features and target variable\n",
    "X = df[['age', 'income', 'occupation_encoded', 'marital_status_encoded', 'children', 'risk_score', 'preferences_encoded']]\n",
    "y = df['insurance_type_encoded']"
   ]
  },
  {
   "cell_type": "code",
   "execution_count": 10,
   "id": "06bbee8c-f308-4e67-ab79-86d0b0e45a9a",
   "metadata": {},
   "outputs": [],
   "source": [
    "X_train, X_test, y_train, y_test = train_test_split(X, y, test_size = 0.3, random_state = 42)"
   ]
  },
  {
   "cell_type": "code",
   "execution_count": 11,
   "id": "d029a7fb-b699-4400-9745-2455c5dbfb0b",
   "metadata": {},
   "outputs": [
    {
     "data": {
      "text/html": [
       "<style>#sk-container-id-1 {color: black;background-color: white;}#sk-container-id-1 pre{padding: 0;}#sk-container-id-1 div.sk-toggleable {background-color: white;}#sk-container-id-1 label.sk-toggleable__label {cursor: pointer;display: block;width: 100%;margin-bottom: 0;padding: 0.3em;box-sizing: border-box;text-align: center;}#sk-container-id-1 label.sk-toggleable__label-arrow:before {content: \"▸\";float: left;margin-right: 0.25em;color: #696969;}#sk-container-id-1 label.sk-toggleable__label-arrow:hover:before {color: black;}#sk-container-id-1 div.sk-estimator:hover label.sk-toggleable__label-arrow:before {color: black;}#sk-container-id-1 div.sk-toggleable__content {max-height: 0;max-width: 0;overflow: hidden;text-align: left;background-color: #f0f8ff;}#sk-container-id-1 div.sk-toggleable__content pre {margin: 0.2em;color: black;border-radius: 0.25em;background-color: #f0f8ff;}#sk-container-id-1 input.sk-toggleable__control:checked~div.sk-toggleable__content {max-height: 200px;max-width: 100%;overflow: auto;}#sk-container-id-1 input.sk-toggleable__control:checked~label.sk-toggleable__label-arrow:before {content: \"▾\";}#sk-container-id-1 div.sk-estimator input.sk-toggleable__control:checked~label.sk-toggleable__label {background-color: #d4ebff;}#sk-container-id-1 div.sk-label input.sk-toggleable__control:checked~label.sk-toggleable__label {background-color: #d4ebff;}#sk-container-id-1 input.sk-hidden--visually {border: 0;clip: rect(1px 1px 1px 1px);clip: rect(1px, 1px, 1px, 1px);height: 1px;margin: -1px;overflow: hidden;padding: 0;position: absolute;width: 1px;}#sk-container-id-1 div.sk-estimator {font-family: monospace;background-color: #f0f8ff;border: 1px dotted black;border-radius: 0.25em;box-sizing: border-box;margin-bottom: 0.5em;}#sk-container-id-1 div.sk-estimator:hover {background-color: #d4ebff;}#sk-container-id-1 div.sk-parallel-item::after {content: \"\";width: 100%;border-bottom: 1px solid gray;flex-grow: 1;}#sk-container-id-1 div.sk-label:hover label.sk-toggleable__label {background-color: #d4ebff;}#sk-container-id-1 div.sk-serial::before {content: \"\";position: absolute;border-left: 1px solid gray;box-sizing: border-box;top: 0;bottom: 0;left: 50%;z-index: 0;}#sk-container-id-1 div.sk-serial {display: flex;flex-direction: column;align-items: center;background-color: white;padding-right: 0.2em;padding-left: 0.2em;position: relative;}#sk-container-id-1 div.sk-item {position: relative;z-index: 1;}#sk-container-id-1 div.sk-parallel {display: flex;align-items: stretch;justify-content: center;background-color: white;position: relative;}#sk-container-id-1 div.sk-item::before, #sk-container-id-1 div.sk-parallel-item::before {content: \"\";position: absolute;border-left: 1px solid gray;box-sizing: border-box;top: 0;bottom: 0;left: 50%;z-index: -1;}#sk-container-id-1 div.sk-parallel-item {display: flex;flex-direction: column;z-index: 1;position: relative;background-color: white;}#sk-container-id-1 div.sk-parallel-item:first-child::after {align-self: flex-end;width: 50%;}#sk-container-id-1 div.sk-parallel-item:last-child::after {align-self: flex-start;width: 50%;}#sk-container-id-1 div.sk-parallel-item:only-child::after {width: 0;}#sk-container-id-1 div.sk-dashed-wrapped {border: 1px dashed gray;margin: 0 0.4em 0.5em 0.4em;box-sizing: border-box;padding-bottom: 0.4em;background-color: white;}#sk-container-id-1 div.sk-label label {font-family: monospace;font-weight: bold;display: inline-block;line-height: 1.2em;}#sk-container-id-1 div.sk-label-container {text-align: center;}#sk-container-id-1 div.sk-container {/* jupyter's `normalize.less` sets `[hidden] { display: none; }` but bootstrap.min.css set `[hidden] { display: none !important; }` so we also need the `!important` here to be able to override the default hidden behavior on the sphinx rendered scikit-learn.org. See: https://github.com/scikit-learn/scikit-learn/issues/21755 */display: inline-block !important;position: relative;}#sk-container-id-1 div.sk-text-repr-fallback {display: none;}</style><div id=\"sk-container-id-1\" class=\"sk-top-container\"><div class=\"sk-text-repr-fallback\"><pre>RandomForestClassifier(random_state=42)</pre><b>In a Jupyter environment, please rerun this cell to show the HTML representation or trust the notebook. <br />On GitHub, the HTML representation is unable to render, please try loading this page with nbviewer.org.</b></div><div class=\"sk-container\" hidden><div class=\"sk-item\"><div class=\"sk-estimator sk-toggleable\"><input class=\"sk-toggleable__control sk-hidden--visually\" id=\"sk-estimator-id-1\" type=\"checkbox\" checked><label for=\"sk-estimator-id-1\" class=\"sk-toggleable__label sk-toggleable__label-arrow\">RandomForestClassifier</label><div class=\"sk-toggleable__content\"><pre>RandomForestClassifier(random_state=42)</pre></div></div></div></div></div>"
      ],
      "text/plain": [
       "RandomForestClassifier(random_state=42)"
      ]
     },
     "execution_count": 11,
     "metadata": {},
     "output_type": "execute_result"
    }
   ],
   "source": [
    "rf_model = RandomForestClassifier(n_estimators = 100, random_state = 42)\n",
    "rf_model.fit(X_train, y_train)"
   ]
  },
  {
   "cell_type": "code",
   "execution_count": 12,
   "id": "ee5babf7-dbd1-4253-97d3-594cf8a10d92",
   "metadata": {},
   "outputs": [],
   "source": [
    "y_pred = rf_model.predict(X_test)"
   ]
  },
  {
   "cell_type": "code",
   "execution_count": 13,
   "id": "9e62ec05-352d-4224-b65a-47d7051ec295",
   "metadata": {},
   "outputs": [
    {
     "name": "stdout",
     "output_type": "stream",
     "text": [
      "Model Accuracy: 46.77%\n"
     ]
    }
   ],
   "source": [
    "accuracy = accuracy_score(y_test, y_pred)\n",
    "print(f\"Model Accuracy: {accuracy * 100:.2f}%\")"
   ]
  },
  {
   "cell_type": "code",
   "execution_count": 14,
   "id": "0d28ae79-2db7-4469-a01b-d10e9a46a6b4",
   "metadata": {},
   "outputs": [],
   "source": [
    "feature_importance = pd.DataFrame(rf_model.feature_importances_, index = X.columns, columns = ['importance']).sort_values('importance', ascending = False)"
   ]
  },
  {
   "cell_type": "code",
   "execution_count": 15,
   "id": "20589b88-57dd-4d31-96a5-fd305d51e990",
   "metadata": {},
   "outputs": [
    {
     "data": {
      "text/html": [
       "<div>\n",
       "<style scoped>\n",
       "    .dataframe tbody tr th:only-of-type {\n",
       "        vertical-align: middle;\n",
       "    }\n",
       "\n",
       "    .dataframe tbody tr th {\n",
       "        vertical-align: top;\n",
       "    }\n",
       "\n",
       "    .dataframe thead th {\n",
       "        text-align: right;\n",
       "    }\n",
       "</style>\n",
       "<table border=\"1\" class=\"dataframe\">\n",
       "  <thead>\n",
       "    <tr style=\"text-align: right;\">\n",
       "      <th></th>\n",
       "      <th>importance</th>\n",
       "    </tr>\n",
       "  </thead>\n",
       "  <tbody>\n",
       "    <tr>\n",
       "      <th>risk_score</th>\n",
       "      <td>0.393395</td>\n",
       "    </tr>\n",
       "    <tr>\n",
       "      <th>income</th>\n",
       "      <td>0.221602</td>\n",
       "    </tr>\n",
       "    <tr>\n",
       "      <th>age</th>\n",
       "      <td>0.173846</td>\n",
       "    </tr>\n",
       "    <tr>\n",
       "      <th>occupation_encoded</th>\n",
       "      <td>0.074517</td>\n",
       "    </tr>\n",
       "    <tr>\n",
       "      <th>children</th>\n",
       "      <td>0.053872</td>\n",
       "    </tr>\n",
       "    <tr>\n",
       "      <th>marital_status_encoded</th>\n",
       "      <td>0.042495</td>\n",
       "    </tr>\n",
       "    <tr>\n",
       "      <th>preferences_encoded</th>\n",
       "      <td>0.040273</td>\n",
       "    </tr>\n",
       "  </tbody>\n",
       "</table>\n",
       "</div>"
      ],
      "text/plain": [
       "                        importance\n",
       "risk_score                0.393395\n",
       "income                    0.221602\n",
       "age                       0.173846\n",
       "occupation_encoded        0.074517\n",
       "children                  0.053872\n",
       "marital_status_encoded    0.042495\n",
       "preferences_encoded       0.040273"
      ]
     },
     "execution_count": 15,
     "metadata": {},
     "output_type": "execute_result"
    }
   ],
   "source": [
    "feature_importance"
   ]
  },
  {
   "cell_type": "code",
   "execution_count": 33,
   "id": "ba4e83a6-36e5-458c-9a09-eec986558177",
   "metadata": {},
   "outputs": [],
   "source": [
    "import joblib"
   ]
  },
  {
   "cell_type": "code",
   "execution_count": 34,
   "id": "3ac45211-31c6-4222-86b7-2edbe38a9ce1",
   "metadata": {},
   "outputs": [
    {
     "data": {
      "text/plain": [
       "['insurance_product.pkl']"
      ]
     },
     "execution_count": 34,
     "metadata": {},
     "output_type": "execute_result"
    }
   ],
   "source": [
    "joblib.dump(rf_model, 'insurance_product.pkl')"
   ]
  },
  {
   "cell_type": "code",
   "execution_count": 35,
   "id": "0948093e-beff-4994-8489-7184ae66314f",
   "metadata": {},
   "outputs": [],
   "source": [
    "rf_model = joblib.load('insurance_product.pkl')"
   ]
  },
  {
   "cell_type": "code",
   "execution_count": 36,
   "id": "03eb260b-e395-44e1-9c51-adadff557210",
   "metadata": {},
   "outputs": [],
   "source": [
    "new_customer = pd.DataFrame({\n",
    "    'age': [56],\n",
    "    'income': [90000],\n",
    "    'occupation_encoded': [le_occupation.transform(['Freelancer'])[0]],\n",
    "    'marital_status_encoded': [le_marital_status.transform(['Married'])[0]],\n",
    "    'children': [1],\n",
    "    'risk_score': [0.43],\n",
    "    'preferences_encoded': [le_preferences.transform(['comprehensive coverage'])[0]]\n",
    "})"
   ]
  },
  {
   "cell_type": "code",
   "execution_count": 37,
   "id": "46b5b1ab-295f-494a-8d3c-c71c8e00f9e3",
   "metadata": {},
   "outputs": [],
   "source": [
    "predicted_policy_encoded = rf_model.predict(new_customer)"
   ]
  },
  {
   "cell_type": "code",
   "execution_count": 38,
   "id": "79de960f-1994-4aac-b4ea-0c61c4a2a759",
   "metadata": {},
   "outputs": [],
   "source": [
    "predicted_policy = le_insurance_type.inverse_transform(predicted_policy_encoded)"
   ]
  },
  {
   "cell_type": "code",
   "execution_count": 39,
   "id": "89fb65b1-0b35-48b7-a8ba-c9185afd5106",
   "metadata": {},
   "outputs": [
    {
     "data": {
      "text/plain": [
       "array(['vehicle'], dtype=object)"
      ]
     },
     "execution_count": 39,
     "metadata": {},
     "output_type": "execute_result"
    }
   ],
   "source": [
    "predicted_policy"
   ]
  },
  {
   "cell_type": "code",
   "execution_count": null,
   "id": "a4325f32-4c82-4d23-9bab-a01a0c542f28",
   "metadata": {},
   "outputs": [],
   "source": []
  },
  {
   "cell_type": "code",
   "execution_count": 17,
   "id": "4ddce109-b1d8-4c22-b17c-713991b3baa7",
   "metadata": {},
   "outputs": [],
   "source": [
    "param_grid = {\n",
    "    'n_estimators': [100, 200, 300],            # Number of trees in the forest\n",
    "    'max_depth': [10, 20, 30, None],            # Maximum depth of the tree\n",
    "    'min_samples_split': [2, 5, 10],            # Minimum number of samples required to split an internal node\n",
    "    'min_samples_leaf': [1, 2, 4],              # Minimum number of samples required to be at a leaf node\n",
    "    'bootstrap': [True, False]                  # Whether to use bootstrap samples when building trees\n",
    "}"
   ]
  },
  {
   "cell_type": "code",
   "execution_count": 18,
   "id": "88676b44-baea-4f05-9d71-bbd7607353a3",
   "metadata": {},
   "outputs": [],
   "source": [
    "# Initialize the RandomForestClassifier\n",
    "rf_model = RandomForestClassifier(random_state=42)"
   ]
  },
  {
   "cell_type": "code",
   "execution_count": 19,
   "id": "0ec22345-0daf-4972-9550-9957f71378aa",
   "metadata": {},
   "outputs": [],
   "source": [
    "# Initialize GridSearchCV with 5-fold cross-validation\n",
    "grid_search = GridSearchCV(estimator=rf_model, param_grid=param_grid, \n",
    "                           cv=5, n_jobs=-1, verbose=2, scoring='accuracy')"
   ]
  },
  {
   "cell_type": "code",
   "execution_count": null,
   "id": "d9622d03-1605-48c5-b364-086c2a92fe81",
   "metadata": {},
   "outputs": [
    {
     "name": "stdout",
     "output_type": "stream",
     "text": [
      "Fitting 5 folds for each of 216 candidates, totalling 1080 fits\n"
     ]
    }
   ],
   "source": [
    "# Fit the grid search to the training data\n",
    "grid_search.fit(X_train, y_train)"
   ]
  },
  {
   "cell_type": "code",
   "execution_count": null,
   "id": "c54d31db-475e-4094-92cd-687837630bef",
   "metadata": {},
   "outputs": [],
   "source": [
    "best_params = grid_search.best_params_\n",
    "best_score = grid_search.best_score_"
   ]
  },
  {
   "cell_type": "code",
   "execution_count": null,
   "id": "16eaef05-99b7-48be-ae68-1c6b81cd82af",
   "metadata": {},
   "outputs": [],
   "source": [
    "print(f\"Best Hyperparameters: {best_params}\")\n",
    "print(f\"Best Grid Search Accuracy: {best_score * 100:.2f}%\")"
   ]
  },
  {
   "cell_type": "code",
   "execution_count": null,
   "id": "3f7cf03d-bb2e-4046-b7a8-5235212d0397",
   "metadata": {},
   "outputs": [],
   "source": []
  }
 ],
 "metadata": {
  "kernelspec": {
   "display_name": "Python 3 (ipykernel)",
   "language": "python",
   "name": "python3"
  },
  "language_info": {
   "codemirror_mode": {
    "name": "ipython",
    "version": 3
   },
   "file_extension": ".py",
   "mimetype": "text/x-python",
   "name": "python",
   "nbconvert_exporter": "python",
   "pygments_lexer": "ipython3",
   "version": "3.11.7"
  }
 },
 "nbformat": 4,
 "nbformat_minor": 5
}
